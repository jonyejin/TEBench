{
 "cells": [
  {
   "cell_type": "code",
   "execution_count": null,
   "metadata": {},
   "outputs": [],
   "source": [
    "%load_ext autoreload\n",
    "%autoreload 2\n",
    "\n",
    "import numpy as np\n",
    "import sys\n",
    "import os\n",
    "\n",
    "from glob import glob\n",
    "\n",
    "sys.path.append(\"..\")\n",
    "sys.path.append(\"../..\")\n",
    "\n",
    "from benchmark_helpers import NCFLOW_HYPERPARAMS, PATH_FORM_HYPERPARAMS\n",
    "from lib.algorithms import NcfEpi, Objective, PathFormulation, POP\n",
    "from lib.problem import Problem\n",
    "from lib.graph_utils import check_feasibility"
   ]
  },
  {
   "cell_type": "code",
   "execution_count": null,
   "metadata": {},
   "outputs": [],
   "source": [
    "num_paths, edge_disjoint, dist_metric = PATH_FORM_HYPERPARAMS\n",
    "\n",
    "num_subproblems = 4\n",
    "split_method = \"random\"\n",
    "split_fraction = 0.75\n",
    "algo_cls = PathFormulation\n",
    "\n",
    "obj_str = \"total_flow\""
   ]
  },
  {
   "cell_type": "code",
   "execution_count": null,
   "metadata": {},
   "outputs": [],
   "source": [
    "def run_pf(problem):\n",
    "    pf = PathFormulation(\n",
    "        objective=Objective.get_obj_from_str(obj_str),\n",
    "        num_paths=num_paths,\n",
    "        edge_disjoint=edge_disjoint,\n",
    "        dist_metric=dist_metric,\n",
    "        DEBUG=False,\n",
    "    )\n",
    "    pf.solve(problem)\n",
    "    return pf"
   ]
  },
  {
   "cell_type": "code",
   "execution_count": null,
   "metadata": {},
   "outputs": [],
   "source": [
    "def run_pop(problem):\n",
    "    pop = POP(\n",
    "        objective=Objective.get_obj_from_str(obj_str),\n",
    "        num_subproblems=num_subproblems,\n",
    "        split_method=split_method,\n",
    "        split_fraction=split_fraction,\n",
    "        algo_cls=algo_cls,\n",
    "        num_paths=num_paths,\n",
    "        edge_disjoint=edge_disjoint,\n",
    "        dist_metric=dist_metric,\n",
    "        DEBUG=False,\n",
    "    )\n",
    "    pop.solve(problem)\n",
    "    return pop"
   ]
  },
  {
   "cell_type": "code",
   "execution_count": null,
   "metadata": {},
   "outputs": [],
   "source": [
    "def run_ncflow(problem):\n",
    "    (\n",
    "        num_paths,\n",
    "        edge_disjoint,\n",
    "        dist_metric,\n",
    "        partition_cls,\n",
    "        num_parts_scale_factor,\n",
    "    ) = NCFLOW_HYPERPARAMS[problem.name]\n",
    "    num_partitions_to_set = num_parts_scale_factor * int(np.sqrt(len(problem.G.nodes)))\n",
    "    partitioner = partition_cls(num_partitions_to_set)\n",
    "\n",
    "    ncflow = NcfEpi(\n",
    "        objective=Objective.get_obj_from_str(obj_str),\n",
    "        num_paths=num_paths,\n",
    "        edge_disjoint=edge_disjoint,\n",
    "        dist_metric=dist_metric,\n",
    "        DEBUG=True,\n",
    "        VERBOSE=True,\n",
    "    )\n",
    "    ncflow.solve(problem, partitioner)\n",
    "    return ncflow"
   ]
  },
  {
   "cell_type": "code",
   "execution_count": null,
   "metadata": {},
   "outputs": [],
   "source": [
    "def run_algos(problem, algo_labels_and_fns):\n",
    "    print(\"Total demand: \", problem.total_demand)\n",
    "    algos = {}\n",
    "    results = []\n",
    "    for (algo_label, run_algo_fn) in algo_labels_and_fns:\n",
    "        print(algo_label)\n",
    "        algo = run_algo_fn(problem)\n",
    "        check_feasibility(problem, [algo.sol_dict])\n",
    "        algos[algo_label] = algo\n",
    "        results.append(\"{}: {}\".format(algo_label, algo.obj_val))\n",
    "    print(\", \".join(results))\n",
    "    return algos"
   ]
  },
  {
   "cell_type": "code",
   "execution_count": null,
   "metadata": {},
   "outputs": [],
   "source": [
    "def get_path_lengths_per_commod(problem, paths_dict):\n",
    "    l = []\n",
    "    for (_, (s_k, t_k, _)) in problem.commodity_list:\n",
    "        s_k_t_k_paths = paths_dict[(s_k, t_k)]\n",
    "        num_hops_per_path = [len(p) for p in s_k_t_k_paths]\n",
    "        s_k_t_k_shortest_path, s_k_t_k_longest_path = min(num_hops_per_path), max(num_hops_per_path)\n",
    "        l.append((s_k, t_k, s_k_t_k_shortest_path, s_k_t_k_longest_path))    \n",
    "    return sorted(l, key=lambda x: x[-2] + x[-1], reverse=True)"
   ]
  },
  {
   "cell_type": "code",
   "execution_count": null,
   "metadata": {},
   "outputs": [],
   "source": [
    "def generate_infinite_demands_problem(topo_name, commods_sorted_by_hops, distant=True):\n",
    "    G = Problem._read_graph_graphml(os.path.join('../../topologies/topology-zoo', topo_name))\n",
    "    capacity = list(G.edges.data('capacity'))[0][-1]\n",
    "    num_nodes = len(G.nodes)\n",
    "    tm = np.zeros((num_nodes, num_nodes))\n",
    "    if distant:\n",
    "        half_of_commods = commods_sorted_by_hops[:len(commods_sorted_by_hops)//2]\n",
    "    else:\n",
    "        half_of_commods = commods_sorted_by_hops[len(commods_sorted_by_hops)//2:]\n",
    "    for (s, t, _, _) in half_of_commods:\n",
    "        tm[s, t] = capacity\n",
    "\n",
    "    problem = Problem.fixed_traffic_matrix_problem(G, traffic_matrix=tm)\n",
    "    problem.name = topo_name\n",
    "    return problem\n"
   ]
  },
  {
   "cell_type": "code",
   "execution_count": null,
   "metadata": {},
   "outputs": [],
   "source": [
    "def get_dummy_prob_and_paths(topo_name):\n",
    "    tm_fname_glob_pattern = '../../traffic-matrices/uniform/{}_uniform_*_1.0_*_traffic-matrix.pkl'.format(\n",
    "        topo_name\n",
    "    )\n",
    "    tm_fname = list(glob(tm_fname_glob_pattern))[0]\n",
    "    print(tm_fname)\n",
    "    problem = Problem.from_file(os.path.join('../../topologies/topology-zoo', topo_name), tm_fname)\n",
    "    paths_dict = PathFormulation.read_paths_from_disk_or_compute(problem,\n",
    "                                                                   num_paths=num_paths,\n",
    "                                                                   edge_disjoint=edge_disjoint,\n",
    "                                                                   dist_metric=dist_metric)\n",
    "    return problem, paths_dict"
   ]
  },
  {
   "cell_type": "code",
   "execution_count": null,
   "metadata": {},
   "outputs": [],
   "source": [
    "def run_experiment(topo_name):\n",
    "    dummy_prob, paths_dict = get_dummy_prob_and_paths(topo_name)\n",
    "    commods_sorted_by_hops = get_path_lengths_per_commod(dummy_prob, paths_dict)\n",
    "    infinite_demands_distant_pairs = generate_infinite_demands_problem(topo_name,\n",
    "                                                                       commods_sorted_by_hops,\n",
    "                                                                       distant=True)\n",
    "    infinite_demands_close_pairs = generate_infinite_demands_problem(topo_name,\n",
    "                                                                     commods_sorted_by_hops,\n",
    "                                                                     distant=False)\n",
    "\n",
    "    labels_and_algos_to_run = [(\"PF\", run_pf), (\"NCFlow\", run_ncflow), (\"POP\", run_pop)]\n",
    "    distant_algos = run_algos(infinite_demands_distant_pairs, labels_and_algos_to_run)\n",
    "\n",
    "    pf_distant = distant_algos[\"PF\"]\n",
    "    ncflow_distant = distant_algos[\"NCFlow\"]\n",
    "    pop_distant = distant_algos[\"POP\"]\n",
    "\n",
    "    print(\"Distant: NCFlow vs PF: {}, POP vs PF: {}\".format(\n",
    "        ncflow_distant.obj_val / pf_distant.obj_val, pop_distant.obj_val / pf_distant.obj_val\n",
    "        )\n",
    "    )\n",
    "\n",
    "    close_algos = run_algos(infinite_demands_close_pairs, labels_and_algos_to_run)\n",
    "\n",
    "    pf_close = close_algos[\"PF\"]\n",
    "    ncflow_close = close_algos[\"NCFlow\"]\n",
    "    pop_close = close_algos[\"POP\"]\n",
    "\n",
    "    print(\"Close: NCFlow vs PF: {}, POP vs PF: {}\".format(\n",
    "        ncflow_close.obj_val / pf_close.obj_val,\n",
    "        pop_close.obj_val / pf_close.obj_val\n",
    "        )\n",
    "    )\n",
    "\n",
    "    return pf_distant, pop_distant, ncflow_distant, pf_close, pop_close, ncflow_close\n"
   ]
  },
  {
   "cell_type": "code",
   "execution_count": null,
   "metadata": {},
   "outputs": [],
   "source": [
    "run_experiment(\"Kdl.graphml\")"
   ]
  },
  {
   "cell_type": "code",
   "execution_count": null,
   "metadata": {},
   "outputs": [],
   "source": [
    "run_experiment(\"Cogentco.graphml\")"
   ]
  },
  {
   "cell_type": "code",
   "execution_count": null,
   "metadata": {},
   "outputs": [],
   "source": [
    "run_experiment(\"Colt.graphml\")"
   ]
  },
  {
   "cell_type": "code",
   "execution_count": null,
   "metadata": {},
   "outputs": [],
   "source": [
    "run_experiment(\"Deltacom.graphml\")"
   ]
  },
  {
   "cell_type": "code",
   "execution_count": null,
   "metadata": {},
   "outputs": [],
   "source": [
    "run_experiment(\"DialtelecomCz.graphml\")"
   ]
  },
  {
   "cell_type": "code",
   "execution_count": null,
   "metadata": {},
   "outputs": [],
   "source": [
    "run_experiment(\"GtsCe.graphml\")"
   ]
  },
  {
   "cell_type": "code",
   "execution_count": null,
   "metadata": {},
   "outputs": [],
   "source": [
    "run_experiment(\"TataNld.graphml\")"
   ]
  },
  {
   "cell_type": "code",
   "execution_count": null,
   "metadata": {},
   "outputs": [],
   "source": [
    "run_experiment(\"UsCarrier.graphml\")"
   ]
  },
  {
   "cell_type": "code",
   "execution_count": null,
   "metadata": {},
   "outputs": [],
   "source": []
  }
 ],
 "metadata": {
  "interpreter": {
   "hash": "aa509d1bd70256533b369bf7ac312b63d0306e3bc61c409ebad00e6ad0854480"
  },
  "kernelspec": {
   "display_name": "Python 3",
   "language": "python",
   "name": "python3"
  },
  "language_info": {
   "codemirror_mode": {
    "name": "ipython",
    "version": 3
   },
   "file_extension": ".py",
   "mimetype": "text/x-python",
   "name": "python",
   "nbconvert_exporter": "python",
   "pygments_lexer": "ipython3",
   "version": "3.8.8"
  }
 },
 "nbformat": 4,
 "nbformat_minor": 2
}
